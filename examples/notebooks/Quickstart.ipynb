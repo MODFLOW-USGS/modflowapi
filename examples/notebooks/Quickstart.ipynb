{
 "cells": [
  {
   "cell_type": "markdown",
   "id": "ef27bcb9",
   "metadata": {},
   "source": [
    "# MODFLOW API Quickstart\n",
    "\n",
    "Detailed description"
   ]
  },
  {
   "cell_type": "code",
   "execution_count": null,
   "id": "334a5509",
   "metadata": {},
   "outputs": [],
   "source": [
    "import modflowapi\n",
    "from modflowapi import Callbacks\n",
    "import numpy as np\n",
    "from pathlib import Path"
   ]
  },
  {
   "cell_type": "markdown",
   "id": "309a015d",
   "metadata": {},
   "source": [
    "Define paths to the modflow6 api shared library"
   ]
  },
  {
   "cell_type": "code",
   "execution_count": null,
   "id": "31936d06",
   "metadata": {},
   "outputs": [],
   "source": [
    "sim_ws = Path(\"../test_model\")\n",
    "dll = Path(\"./libmf6.dll\")"
   ]
  },
  {
   "cell_type": "markdown",
   "id": "308ba215",
   "metadata": {},
   "source": [
    "### Create a callback function for adjusting model data\n",
    "\n",
    "The callback function allows users to wrap function that updates the modflow model at different steps. The `modflowapi.Callbacks` object allows users to find the particular solution step that they are currently in. `modflowapi.Callbacks` includes:\n",
    "\n",
    "   - `Callbacks.initalize`: the initialize callback sends loaded simulation data back to the user to make adjustments before the model begins solving. This callback only occurs once at the beginning of the MODFLOW6 simulation\n",
    "   - `Callbacks.stress_period`: the stress period callback sends simulation data for each solution group to the user to make adjustments to stress packages at the beginning of each stress period.\n",
    "   - `Callbacks.timestep_start`: the timestep_start callback sends simulation data for each solution group to the user to make adjustments to stress packages at the beginning of each timestep.\n",
    "   - `Callbacks.timestep_end`: ?????\n",
    "   - `Callbacks.iteration_start`: the iteration_start callback sends simulation data for each solution group to the user to make adjustments to stress packages at the beginning of each outer solution iteration.\n",
    "   - `Callbacks.iteration_end`: the iteration_end callback sends simulation data for each solution group to the user to make adjustments to stress packages and check values of stress packages at the end of each outer solution iteration.\n",
    "   \n",
    "The user can use any of these callbacks within their callback function."
   ]
  },
  {
   "cell_type": "code",
   "execution_count": null,
   "id": "f7ed7fca",
   "metadata": {},
   "outputs": [],
   "source": [
    "def callback_function(sim, step):\n",
    "    \"\"\"\n",
    "    A demonstration function that dynamically adjusts recharge\n",
    "    and pumping in a modflow-6 model through the MODFLOW-API\n",
    "    \n",
    "    Parameters\n",
    "    ----------\n",
    "    sim : modflowapi.Simulation\n",
    "        A simulation object for the solution group that is \n",
    "        currently being solved\n",
    "    step : enumeration\n",
    "        modflowapi.Callbacks enumeration object that indicates\n",
    "        the part of the solution modflow is currently in.\n",
    "    \"\"\"\n",
    "    ml = sim.test_model\n",
    "    if step == Callbacks.initialize:\n",
    "        print(sim.models)\n",
    "    \n",
    "    if step == Callbacks.stress_period:\n",
    "        # adjust recharge for stress periods 7 through 12\n",
    "        if sim.kper <= 6:\n",
    "            rcha = ml.rcha_0\n",
    "            spd = rcha.stress_period_data\n",
    "            print(f\"updating recharge: stress_period={ml.kper}\")\n",
    "            spd[\"recharge\"] += 0.40 * sim.kper\n",
    "        \n",
    "    \n",
    "    if step == Callbacks.timestep_start:\n",
    "        print(f\"updating wel flux: stress_period={ml.kper}, timestep={ml.kstp}\")\n",
    "        ml.wel.stress_period_data[\"flux\"] -= ml.kstp * 1.5\n",
    "    \n",
    "    if step == Callbacks.iteration_start:\n",
    "        # we can implement complex solutions to boundary conditions here!\n",
    "        pass\n",
    "    "
   ]
  },
  {
   "cell_type": "markdown",
   "id": "b3f1d912",
   "metadata": {},
   "source": [
    "The callback function is then passed to `modflowapi.run_model`"
   ]
  },
  {
   "cell_type": "code",
   "execution_count": null,
   "id": "8741915e",
   "metadata": {},
   "outputs": [],
   "source": [
    "modflowapi.run_model(dll, sim_ws, callback_function, verbose=False)"
   ]
  },
  {
   "cell_type": "code",
   "execution_count": null,
   "id": "6a174a0a",
   "metadata": {},
   "outputs": [],
   "source": []
  }
 ],
 "metadata": {
  "kernelspec": {
   "display_name": "Python 3 (ipykernel)",
   "language": "python",
   "name": "python3"
  },
  "language_info": {
   "codemirror_mode": {
    "name": "ipython",
    "version": 3
   },
   "file_extension": ".py",
   "mimetype": "text/x-python",
   "name": "python",
   "nbconvert_exporter": "python",
   "pygments_lexer": "ipython3",
   "version": "3.9.13"
  }
 },
 "nbformat": 4,
 "nbformat_minor": 5
}
