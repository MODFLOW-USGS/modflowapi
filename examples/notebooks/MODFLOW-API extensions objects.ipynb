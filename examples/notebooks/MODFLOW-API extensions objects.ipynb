{
 "cells": [
  {
   "cell_type": "markdown",
   "id": "5acdb8ec",
   "metadata": {},
   "source": [
    "# Interacting with MODFLOW-API Interface objects\n",
    "\n",
    "The purpose of this notebook is to show the MODFLOW-API interface objects and introduce the user to the data types and how to interact with the objects. \n",
    "\n",
    "**Note**: This notebook shows how to run a model using the modflow-api at the end of the notebook. However, the majority of the notebook is an illustration of how to access and work with the data types that are returned to a user defined callback function. "
   ]
  },
  {
   "cell_type": "code",
   "execution_count": 1,
   "id": "4b0e6a93",
   "metadata": {},
   "outputs": [],
   "source": [
    "import modflowapi\n",
    "from modflowapi.extensions import ApiSimulation\n",
    "from pathlib import Path\n",
    "import platform"
   ]
  },
  {
   "cell_type": "markdown",
   "id": "9e654316",
   "metadata": {},
   "source": [
    "Define the paths to the model and the Modflow shared library"
   ]
  },
  {
   "cell_type": "code",
   "execution_count": 2,
   "id": "66c0f32c",
   "metadata": {
    "scrolled": true
   },
   "outputs": [],
   "source": [
    "sim_ws = Path(\"../data/dis_model\")\n",
    "dll = \"./libmf6\"\n",
    "if platform.system().lower() == \"windows\":\n",
    "    ext = \".dll\"\n",
    "elif platform.system().lower() == \"linux\":\n",
    "    ext = \".so\"\n",
    "else:\n",
    "    ext = \".dylib\"\n",
    "    \n",
    "dll = Path(dll + ext)"
   ]
  },
  {
   "cell_type": "markdown",
   "id": "d258b430",
   "metadata": {},
   "source": [
    "#### Initializing the API model object\n",
    "\n",
    "The modflow api allows users to initialize an object that can be used to interact with the model. This processes is done automatically with the `modflowapi.run_model` function call. We're going to initialize an object outside of that call as a demonstration of the interface data objects"
   ]
  },
  {
   "cell_type": "code",
   "execution_count": 3,
   "id": "9c18c3bf",
   "metadata": {},
   "outputs": [],
   "source": [
    "mf6 = modflowapi.ModflowApi(dll, working_directory=sim_ws)\n",
    "mf6.initialize()\n",
    "\n",
    "# let's advance the model to the first timestep\n",
    "dt = mf6.get_time_step()\n",
    "mf6.prepare_time_step(dt)"
   ]
  },
  {
   "cell_type": "markdown",
   "id": "424925fc",
   "metadata": {},
   "source": [
    "## The `ApiSimulation` object \n",
    "\n",
    "The `ApiSimulation` object is the top level container for the modflowapi interface classes. This container holds methods and other objects that allow the user to access boundary condition pointer data without assembling the specific memory addresses of the modflow data. \n",
    "\n",
    "Let's take a look at the `ApiSimulation` object"
   ]
  },
  {
   "cell_type": "code",
   "execution_count": 4,
   "id": "b0e83b86",
   "metadata": {},
   "outputs": [
    {
     "data": {
      "text/plain": [
       "\n",
       "    ApiSimulation object that holds a modflow simulation info and loads\n",
       "    supported models.\n",
       "\n",
       "    Parameters\n",
       "    ----------\n",
       "    mf6 : ModflowApi\n",
       "        initialized ModflowApi object\n",
       "    models : dict\n",
       "        dictionary of model_name: modflowapi.extensions.ApiModel objects\n",
       "    solutions : dict\n",
       "        dictionary of solution_id: solution_name\n",
       "    exchanges : dict\n",
       "        dictoinary of exchange_name: modflowapi.extensions.ApiExchange objects\n",
       "    tdis : ApiTdisPackage\n",
       "        time discretization (TDIS) ScalarPackage\n",
       "    ats : None or ApiAtsPackage\n",
       "        adaptive time step ScalarPackage object\n",
       "    Number of models: 1:\n",
       "\ttest_model : <class 'modflowapi.extensions.apimodel.ApiModel'>\n",
       "Simulation level packages include:\n",
       "\tSLN: SLN Package: SLN_1 \n",
       " Accessible variables include:\n",
       " akappa \n",
       " amomentum \n",
       " breduc \n",
       " btol \n",
       " droptol \n",
       " dvclose \n",
       " gamma \n",
       " ims_dvclose \n",
       " iord \n",
       " ipc \n",
       " iscl \n",
       " mxiter \n",
       " niterc \n",
       " north \n",
       " numtrack \n",
       " rclose \n",
       " relax \n",
       " res_lim \n",
       " theta \n",
       "\n",
       "\tTDIS: TDIS Package: TDIS \n",
       " Accessible variables include:\n",
       " delt \n",
       " itmuni \n",
       " kper \n",
       " kstp \n",
       " nper \n",
       " nstp \n",
       " perlen \n",
       " pertim \n",
       " tsmult \n"
      ]
     },
     "execution_count": 4,
     "metadata": {},
     "output_type": "execute_result"
    }
   ],
   "source": [
    "sim = ApiSimulation.load(mf6)\n",
    "sim"
   ]
  },
  {
   "cell_type": "markdown",
   "id": "65030e7d",
   "metadata": {},
   "source": [
    "The simulation object allows the user to access models by name and has a number of handy properties and contains simulation level packages such as `sln`, `tdis`, `ats`, and `exchanges`"
   ]
  },
  {
   "cell_type": "code",
   "execution_count": 5,
   "id": "c6930030",
   "metadata": {},
   "outputs": [
    {
     "data": {
      "text/plain": [
       "['test_model']"
      ]
     },
     "execution_count": 5,
     "metadata": {},
     "output_type": "execute_result"
    }
   ],
   "source": [
    "mnames = sim.model_names\n",
    "mnames"
   ]
  },
  {
   "cell_type": "code",
   "execution_count": 6,
   "id": "327a1c6e",
   "metadata": {},
   "outputs": [
    {
     "data": {
      "text/plain": [
       "(0, 0)"
      ]
     },
     "execution_count": 6,
     "metadata": {},
     "output_type": "execute_result"
    }
   ],
   "source": [
    "kstp, kper = sim.kstp, sim.kper\n",
    "kstp, kper"
   ]
  },
  {
   "cell_type": "code",
   "execution_count": 7,
   "id": "93c4c417",
   "metadata": {},
   "outputs": [
    {
     "data": {
      "text/plain": [
       "31"
      ]
     },
     "execution_count": 7,
     "metadata": {},
     "output_type": "execute_result"
    }
   ],
   "source": [
    "nstp = sim.nstp\n",
    "nstp"
   ]
  },
  {
   "cell_type": "code",
   "execution_count": 8,
   "id": "77c77460",
   "metadata": {},
   "outputs": [
    {
     "data": {
      "text/plain": [
       "SLN Package: SLN_1 \n",
       " Accessible variables include:\n",
       " akappa \n",
       " amomentum \n",
       " breduc \n",
       " btol \n",
       " droptol \n",
       " dvclose \n",
       " gamma \n",
       " ims_dvclose \n",
       " iord \n",
       " ipc \n",
       " iscl \n",
       " mxiter \n",
       " niterc \n",
       " north \n",
       " numtrack \n",
       " rclose \n",
       " relax \n",
       " res_lim \n",
       " theta "
      ]
     },
     "execution_count": 8,
     "metadata": {},
     "output_type": "execute_result"
    }
   ],
   "source": [
    "ims = sim.sln\n",
    "ims"
   ]
  },
  {
   "cell_type": "code",
   "execution_count": 9,
   "id": "3805e031",
   "metadata": {},
   "outputs": [
    {
     "data": {
      "text/plain": [
       "0.1"
      ]
     },
     "execution_count": 9,
     "metadata": {},
     "output_type": "execute_result"
    }
   ],
   "source": [
    "ims.dvclose"
   ]
  },
  {
   "cell_type": "markdown",
   "id": "236d4a25",
   "metadata": {},
   "source": [
    "## The `ApiModel` object\n",
    "\n",
    "`ApiModel` objects are accessed from the `ApiSimulation` object and are a container for packages. These objects allow the user to view which packages are available and access those packages. \n",
    "\n",
    "The following cells show the main attributes and functions available on the `ApiModel` object"
   ]
  },
  {
   "cell_type": "markdown",
   "id": "7e65a3f3",
   "metadata": {},
   "source": [
    "Model objects are accessible through the `get_model` function and as attributes on the sim object"
   ]
  },
  {
   "cell_type": "code",
   "execution_count": 10,
   "id": "232c0660",
   "metadata": {},
   "outputs": [
    {
     "data": {
      "text/plain": [
       "TEST_MODEL, 1 Layer, 10 Row, 10 Column model\n",
       "Packages accessible include: \n",
       "  ArrayPackage objects:\n",
       "    dis: <class 'modflowapi.extensions.pakbase.ApiDisPackage'>\n",
       "    npf: <class 'modflowapi.extensions.pakbase.ApiNpfPackage'>\n",
       "    sto: <class 'modflowapi.extensions.pakbase.ApiStoPackage'>\n",
       "    ic: <class 'modflowapi.extensions.pakbase.ApiIcPackage'>\n",
       "  ListPackage objects:\n",
       "    wel_0: <class 'modflowapi.extensions.pakbase.ApiWelPackage'>\n",
       "    drn_0: <class 'modflowapi.extensions.pakbase.ApiDrnPackage'>\n",
       "    rch_0: <class 'modflowapi.extensions.pakbase.ApiRchPackage'>\n",
       "    rcha_0: <class 'modflowapi.extensions.pakbase.ApiRchPackage'>\n",
       "    evt_0: <class 'modflowapi.extensions.pakbase.ApiEvtPackage'>\n",
       "    chd_0: <class 'modflowapi.extensions.pakbase.ApiChdPackage'>\n",
       "  AdvancedPackage objects:\n",
       "    buy: <class 'modflowapi.extensions.pakbase.ApiBuyPackage'>\n",
       "    vsc: <class 'modflowapi.extensions.pakbase.ApiVscPackage'>\n",
       "    gnc: <class 'modflowapi.extensions.pakbase.ApiGncPackage'>\n",
       "    hfb: <class 'modflowapi.extensions.pakbase.ApiHfbPackage'>\n",
       "    csub: <class 'modflowapi.extensions.pakbase.ApiCsubPackage'>\n",
       "    mvr: <class 'modflowapi.extensions.pakbase.ApiMvrPackage'>"
      ]
     },
     "execution_count": 10,
     "metadata": {},
     "output_type": "execute_result"
    }
   ],
   "source": [
    "model = sim.get_model('test_model')\n",
    "model"
   ]
  },
  {
   "cell_type": "code",
   "execution_count": 11,
   "id": "bb9328af",
   "metadata": {},
   "outputs": [
    {
     "data": {
      "text/plain": [
       "TEST_MODEL, 1 Layer, 10 Row, 10 Column model\n",
       "Packages accessible include: \n",
       "  ArrayPackage objects:\n",
       "    dis: <class 'modflowapi.extensions.pakbase.ApiDisPackage'>\n",
       "    npf: <class 'modflowapi.extensions.pakbase.ApiNpfPackage'>\n",
       "    sto: <class 'modflowapi.extensions.pakbase.ApiStoPackage'>\n",
       "    ic: <class 'modflowapi.extensions.pakbase.ApiIcPackage'>\n",
       "  ListPackage objects:\n",
       "    wel_0: <class 'modflowapi.extensions.pakbase.ApiWelPackage'>\n",
       "    drn_0: <class 'modflowapi.extensions.pakbase.ApiDrnPackage'>\n",
       "    rch_0: <class 'modflowapi.extensions.pakbase.ApiRchPackage'>\n",
       "    rcha_0: <class 'modflowapi.extensions.pakbase.ApiRchPackage'>\n",
       "    evt_0: <class 'modflowapi.extensions.pakbase.ApiEvtPackage'>\n",
       "    chd_0: <class 'modflowapi.extensions.pakbase.ApiChdPackage'>\n",
       "  AdvancedPackage objects:\n",
       "    buy: <class 'modflowapi.extensions.pakbase.ApiBuyPackage'>\n",
       "    vsc: <class 'modflowapi.extensions.pakbase.ApiVscPackage'>\n",
       "    gnc: <class 'modflowapi.extensions.pakbase.ApiGncPackage'>\n",
       "    hfb: <class 'modflowapi.extensions.pakbase.ApiHfbPackage'>\n",
       "    csub: <class 'modflowapi.extensions.pakbase.ApiCsubPackage'>\n",
       "    mvr: <class 'modflowapi.extensions.pakbase.ApiMvrPackage'>"
      ]
     },
     "execution_count": 11,
     "metadata": {},
     "output_type": "execute_result"
    }
   ],
   "source": [
    "# approach 2\n",
    "model = sim.test_model\n",
    "model"
   ]
  },
  {
   "cell_type": "markdown",
   "id": "0ddc33e1",
   "metadata": {},
   "source": [
    "There are also a number of other functions available including the following:"
   ]
  },
  {
   "cell_type": "code",
   "execution_count": 12,
   "id": "43aaed16",
   "metadata": {},
   "outputs": [
    {
     "data": {
      "text/plain": [
       "(1, 10, 10)"
      ]
     },
     "execution_count": 12,
     "metadata": {},
     "output_type": "execute_result"
    }
   ],
   "source": [
    "model.shape"
   ]
  },
  {
   "cell_type": "code",
   "execution_count": 13,
   "id": "07b0b3e2",
   "metadata": {},
   "outputs": [
    {
     "data": {
      "text/plain": [
       "100"
      ]
     },
     "execution_count": 13,
     "metadata": {},
     "output_type": "execute_result"
    }
   ],
   "source": [
    "model.size"
   ]
  },
  {
   "cell_type": "code",
   "execution_count": 14,
   "id": "088578c0",
   "metadata": {},
   "outputs": [
    {
     "data": {
      "text/plain": [
       "1"
      ]
     },
     "execution_count": 14,
     "metadata": {},
     "output_type": "execute_result"
    }
   ],
   "source": [
    "model.solution_id"
   ]
  },
  {
   "cell_type": "markdown",
   "id": "4eafd365",
   "metadata": {},
   "source": [
    "A list of all package names that are accesible is also available"
   ]
  },
  {
   "cell_type": "code",
   "execution_count": 15,
   "id": "eee1f0a5",
   "metadata": {},
   "outputs": [
    {
     "data": {
      "text/plain": [
       "['dis',\n",
       " 'npf',\n",
       " 'buy',\n",
       " 'vsc',\n",
       " 'gnc',\n",
       " 'hfb',\n",
       " 'sto',\n",
       " 'csub',\n",
       " 'ic',\n",
       " 'mvr',\n",
       " 'wel_0',\n",
       " 'drn_0',\n",
       " 'rch_0',\n",
       " 'rcha_0',\n",
       " 'evt_0',\n",
       " 'chd_0']"
      ]
     },
     "execution_count": 15,
     "metadata": {},
     "output_type": "execute_result"
    }
   ],
   "source": [
    "model.package_names"
   ]
  },
  {
   "cell_type": "markdown",
   "id": "073bb268",
   "metadata": {},
   "source": [
    "## The `ApiPackage` object(s)\n",
    "\n",
    "Each package is contained in `ApiPackage` container. There are three types depending on the input data. We'll access and take a look at each of the types of `ApiPackage` containers."
   ]
  },
  {
   "cell_type": "markdown",
   "id": "79ac8066",
   "metadata": {},
   "source": [
    "Packages can be accessed from the `Model` object using `get_package()` or by attribute"
   ]
  },
  {
   "cell_type": "code",
   "execution_count": 16,
   "id": "4914c509",
   "metadata": {},
   "outputs": [
    {
     "data": {
      "text/plain": [
       "RCH Package: RCHA_0"
      ]
     },
     "execution_count": 16,
     "metadata": {},
     "output_type": "execute_result"
    }
   ],
   "source": [
    "# example 1: get a package using get_package\n",
    "rch = model.get_package(\"rcha_0\")\n",
    "rch"
   ]
  },
  {
   "cell_type": "code",
   "execution_count": 17,
   "id": "cbc0aadf",
   "metadata": {},
   "outputs": [
    {
     "data": {
      "text/plain": [
       "WEL Package: WEL_0"
      ]
     },
     "execution_count": 17,
     "metadata": {},
     "output_type": "execute_result"
    }
   ],
   "source": [
    "# example 2: get a package by package name attribute\n",
    "wel = model.wel_0\n",
    "wel"
   ]
  },
  {
   "cell_type": "code",
   "execution_count": 18,
   "id": "1a705679",
   "metadata": {},
   "outputs": [
    {
     "data": {
      "text/plain": [
       "[RCH Package: RCH_0, RCH Package: RCHA_0]"
      ]
     },
     "execution_count": 18,
     "metadata": {},
     "output_type": "execute_result"
    }
   ],
   "source": [
    "# example 3: get all packages based on a package type\n",
    "rch_pkgs = model.rch\n",
    "rch_pkgs"
   ]
  },
  {
   "cell_type": "markdown",
   "id": "8d59405f",
   "metadata": {},
   "source": [
    "### `ListPackage` objects\n",
    "\n",
    "`ListPackage` objects are the primary object type of stress period data. The exception to this rule is the advanced packages which will be discussed later. \n",
    "\n",
    "`ListPackage` objects allow users to access stress period data as a numpy recarray or as a pandas dataframe."
   ]
  },
  {
   "cell_type": "code",
   "execution_count": 19,
   "id": "fbc7ed8a",
   "metadata": {},
   "outputs": [
    {
     "data": {
      "text/plain": [
       "rec.array([((0, 9, 7), 1.00000e-03), ((0, 9, 7), 1.00000e-03),\n",
       "           ((0, 0, 2), 4.04496e+00), ((0, 0, 3), 4.04496e+00),\n",
       "           ((0, 0, 4), 4.04496e+00), ((0, 0, 5), 4.04496e+00),\n",
       "           ((0, 0, 6), 4.04496e+00), ((0, 0, 7), 4.04496e+00),\n",
       "           ((0, 9, 7), 1.00000e-03), ((0, 9, 7), 1.00000e-03)],\n",
       "          dtype=[('nodelist', 'O'), ('recharge', '<f8')])"
      ]
     },
     "execution_count": 19,
     "metadata": {},
     "output_type": "execute_result"
    }
   ],
   "source": [
    "recarray = rch.stress_period_data.values\n",
    "recarray[0:10]"
   ]
  },
  {
   "cell_type": "code",
   "execution_count": 20,
   "id": "6eefe129",
   "metadata": {},
   "outputs": [
    {
     "data": {
      "text/html": [
       "<div>\n",
       "<style scoped>\n",
       "    .dataframe tbody tr th:only-of-type {\n",
       "        vertical-align: middle;\n",
       "    }\n",
       "\n",
       "    .dataframe tbody tr th {\n",
       "        vertical-align: top;\n",
       "    }\n",
       "\n",
       "    .dataframe thead th {\n",
       "        text-align: right;\n",
       "    }\n",
       "</style>\n",
       "<table border=\"1\" class=\"dataframe\">\n",
       "  <thead>\n",
       "    <tr style=\"text-align: right;\">\n",
       "      <th></th>\n",
       "      <th>nodelist</th>\n",
       "      <th>recharge</th>\n",
       "    </tr>\n",
       "  </thead>\n",
       "  <tbody>\n",
       "    <tr>\n",
       "      <th>0</th>\n",
       "      <td>(0, 9, 7)</td>\n",
       "      <td>0.00100</td>\n",
       "    </tr>\n",
       "    <tr>\n",
       "      <th>1</th>\n",
       "      <td>(0, 9, 7)</td>\n",
       "      <td>0.00100</td>\n",
       "    </tr>\n",
       "    <tr>\n",
       "      <th>2</th>\n",
       "      <td>(0, 0, 2)</td>\n",
       "      <td>4.04496</td>\n",
       "    </tr>\n",
       "    <tr>\n",
       "      <th>3</th>\n",
       "      <td>(0, 0, 3)</td>\n",
       "      <td>4.04496</td>\n",
       "    </tr>\n",
       "    <tr>\n",
       "      <th>4</th>\n",
       "      <td>(0, 0, 4)</td>\n",
       "      <td>4.04496</td>\n",
       "    </tr>\n",
       "  </tbody>\n",
       "</table>\n",
       "</div>"
      ],
      "text/plain": [
       "    nodelist  recharge\n",
       "0  (0, 9, 7)   0.00100\n",
       "1  (0, 9, 7)   0.00100\n",
       "2  (0, 0, 2)   4.04496\n",
       "3  (0, 0, 3)   4.04496\n",
       "4  (0, 0, 4)   4.04496"
      ]
     },
     "execution_count": 20,
     "metadata": {},
     "output_type": "execute_result"
    }
   ],
   "source": [
    "df = rch.stress_period_data.dataframe\n",
    "df.head()"
   ]
  },
  {
   "cell_type": "markdown",
   "id": "62faee8b",
   "metadata": {},
   "source": [
    "### Updating values for `ListPackage` based data\n",
    "\n",
    "There are multiple ways to update values for `ListPackage` based data. The `.values` and `.dataframe` attributes can be used, or the object can be directly indexed if the user knows the underlying data. Here are some examples"
   ]
  },
  {
   "cell_type": "code",
   "execution_count": 21,
   "id": "0fecf116",
   "metadata": {},
   "outputs": [
    {
     "data": {
      "text/plain": [
       "rec.array([((0, 9, 7), 1.00000e-01), ((0, 9, 7), 1.00000e-03),\n",
       "           ((0, 0, 2), 4.04496e+00), ((0, 0, 3), 4.04496e+00),\n",
       "           ((0, 0, 4), 4.04496e+00)],\n",
       "          dtype=[('nodelist', 'O'), ('recharge', '<f8')])"
      ]
     },
     "execution_count": 21,
     "metadata": {},
     "output_type": "execute_result"
    }
   ],
   "source": [
    "recarray['recharge'][0] *= 100\n",
    "rch.stress_period_data.values = recarray\n",
    "\n",
    "# show that values have been updated\n",
    "recarray = rch.stress_period_data.values\n",
    "recarray[0:5]"
   ]
  },
  {
   "cell_type": "code",
   "execution_count": 22,
   "id": "cf87d47b",
   "metadata": {},
   "outputs": [
    {
     "data": {
      "text/html": [
       "<div>\n",
       "<style scoped>\n",
       "    .dataframe tbody tr th:only-of-type {\n",
       "        vertical-align: middle;\n",
       "    }\n",
       "\n",
       "    .dataframe tbody tr th {\n",
       "        vertical-align: top;\n",
       "    }\n",
       "\n",
       "    .dataframe thead th {\n",
       "        text-align: right;\n",
       "    }\n",
       "</style>\n",
       "<table border=\"1\" class=\"dataframe\">\n",
       "  <thead>\n",
       "    <tr style=\"text-align: right;\">\n",
       "      <th></th>\n",
       "      <th>nodelist</th>\n",
       "      <th>recharge</th>\n",
       "    </tr>\n",
       "  </thead>\n",
       "  <tbody>\n",
       "    <tr>\n",
       "      <th>0</th>\n",
       "      <td>(0, 9, 7)</td>\n",
       "      <td>0.10000</td>\n",
       "    </tr>\n",
       "    <tr>\n",
       "      <th>1</th>\n",
       "      <td>(0, 9, 7)</td>\n",
       "      <td>10000.00000</td>\n",
       "    </tr>\n",
       "    <tr>\n",
       "      <th>2</th>\n",
       "      <td>(0, 0, 2)</td>\n",
       "      <td>4.04496</td>\n",
       "    </tr>\n",
       "    <tr>\n",
       "      <th>3</th>\n",
       "      <td>(0, 0, 3)</td>\n",
       "      <td>4.04496</td>\n",
       "    </tr>\n",
       "    <tr>\n",
       "      <th>4</th>\n",
       "      <td>(0, 0, 4)</td>\n",
       "      <td>4.04496</td>\n",
       "    </tr>\n",
       "  </tbody>\n",
       "</table>\n",
       "</div>"
      ],
      "text/plain": [
       "    nodelist     recharge\n",
       "0  (0, 9, 7)      0.10000\n",
       "1  (0, 9, 7)  10000.00000\n",
       "2  (0, 0, 2)      4.04496\n",
       "3  (0, 0, 3)      4.04496\n",
       "4  (0, 0, 4)      4.04496"
      ]
     },
     "execution_count": 22,
     "metadata": {},
     "output_type": "execute_result"
    }
   ],
   "source": [
    "df = rch.stress_period_data.dataframe\n",
    "df.loc[1, \"recharge\"] = 10000\n",
    "rch.stress_period_data.dataframe = df\n",
    "\n",
    "# show that values have been updated\n",
    "df = rch.stress_period_data.dataframe\n",
    "df.head()"
   ]
  },
  {
   "cell_type": "markdown",
   "id": "fd85083e",
   "metadata": {},
   "source": [
    "#### Interfacing directly with the `.stress_period_data` attribute\n",
    "\n",
    "The `.stress_period_data` attribute returns a container class that interacts with the internal modflow pointers. The data can be adjusted by interacting with `.stress_period_data` in the same fashion as changing data in a numpy recarray. "
   ]
  },
  {
   "cell_type": "code",
   "execution_count": 23,
   "id": "c1d21b67",
   "metadata": {},
   "outputs": [],
   "source": [
    "rch.stress_period_data[\"recharge\"] *= 100"
   ]
  },
  {
   "cell_type": "code",
   "execution_count": 24,
   "id": "0a127471",
   "metadata": {},
   "outputs": [
    {
     "data": {
      "text/html": [
       "<div>\n",
       "<style scoped>\n",
       "    .dataframe tbody tr th:only-of-type {\n",
       "        vertical-align: middle;\n",
       "    }\n",
       "\n",
       "    .dataframe tbody tr th {\n",
       "        vertical-align: top;\n",
       "    }\n",
       "\n",
       "    .dataframe thead th {\n",
       "        text-align: right;\n",
       "    }\n",
       "</style>\n",
       "<table border=\"1\" class=\"dataframe\">\n",
       "  <thead>\n",
       "    <tr style=\"text-align: right;\">\n",
       "      <th></th>\n",
       "      <th>nodelist</th>\n",
       "      <th>recharge</th>\n",
       "    </tr>\n",
       "  </thead>\n",
       "  <tbody>\n",
       "    <tr>\n",
       "      <th>0</th>\n",
       "      <td>(0, 9, 7)</td>\n",
       "      <td>10.000</td>\n",
       "    </tr>\n",
       "    <tr>\n",
       "      <th>1</th>\n",
       "      <td>(0, 9, 7)</td>\n",
       "      <td>1000000.000</td>\n",
       "    </tr>\n",
       "    <tr>\n",
       "      <th>2</th>\n",
       "      <td>(0, 0, 2)</td>\n",
       "      <td>404.496</td>\n",
       "    </tr>\n",
       "    <tr>\n",
       "      <th>3</th>\n",
       "      <td>(0, 0, 3)</td>\n",
       "      <td>404.496</td>\n",
       "    </tr>\n",
       "    <tr>\n",
       "      <th>4</th>\n",
       "      <td>(0, 0, 4)</td>\n",
       "      <td>404.496</td>\n",
       "    </tr>\n",
       "  </tbody>\n",
       "</table>\n",
       "</div>"
      ],
      "text/plain": [
       "    nodelist     recharge\n",
       "0  (0, 9, 7)       10.000\n",
       "1  (0, 9, 7)  1000000.000\n",
       "2  (0, 0, 2)      404.496\n",
       "3  (0, 0, 3)      404.496\n",
       "4  (0, 0, 4)      404.496"
      ]
     },
     "execution_count": 24,
     "metadata": {},
     "output_type": "execute_result"
    }
   ],
   "source": [
    "df = rch.stress_period_data.dataframe\n",
    "df.head()"
   ]
  },
  {
   "cell_type": "markdown",
   "id": "85f6922c",
   "metadata": {},
   "source": [
    "#### Adding or removing a boundary condition\n",
    "In list packages the user can add and remove specific boundary conditions. Note: if a user adds a boundary condition, such as another well during a stress period, the total number of wells cannot be greater than the wel package's `maxbound` variable. Here's an example"
   ]
  },
  {
   "cell_type": "code",
   "execution_count": 25,
   "id": "4921081e",
   "metadata": {},
   "outputs": [
    {
     "name": "stdout",
     "output_type": "stream",
     "text": [
      "nbound=3 maxbound=10\n"
     ]
    }
   ],
   "source": [
    "wel = model.wel\n",
    "maxbound = wel.maxbound\n",
    "nbound = wel.nbound\n",
    "print(f\"{nbound=}\", f\"{maxbound=}\")"
   ]
  },
  {
   "cell_type": "markdown",
   "id": "9639edaf",
   "metadata": {},
   "source": [
    "For the current stress period there are two active wells `nbound=2`, but there can be up to ten `maxbound=10`."
   ]
  },
  {
   "cell_type": "code",
   "execution_count": 26,
   "id": "a9d7ba04",
   "metadata": {},
   "outputs": [
    {
     "data": {
      "text/plain": [
       "rec.array([((0, 5, 4), -150., 1., 2.), ((0, 1, 2), -100., 1., 2.),\n",
       "           ((0, 3, 5),  -50., 1., 2.)],\n",
       "          dtype=[('nodelist', 'O'), ('flux', '<f8'), ('TEST1', '<f8'), ('TEST2', '<f8')])"
      ]
     },
     "execution_count": 26,
     "metadata": {},
     "output_type": "execute_result"
    }
   ],
   "source": [
    "recarray = wel.stress_period_data.values\n",
    "recarray"
   ]
  },
  {
   "cell_type": "code",
   "execution_count": 27,
   "id": "56021e0a",
   "metadata": {},
   "outputs": [
    {
     "data": {
      "text/plain": [
       "rec.array([((0, 5, 4), -150., 1., 2.), ((0, 1, 2), -100., 1., 2.),\n",
       "           ((0, 3, 5),  -50., 1., 2.), ((0, 1, 5),  -20., 0., 1.)],\n",
       "          dtype=[('nodelist', 'O'), ('flux', '<f8'), ('TEST1', '<f8'), ('TEST2', '<f8')])"
      ]
     },
     "execution_count": 27,
     "metadata": {},
     "output_type": "execute_result"
    }
   ],
   "source": [
    "recarray.resize((nbound + 1,), refcheck=False)\n",
    "recarray[-1] = ((0, 1, 5), -20., 0, 1)\n",
    "recarray"
   ]
  },
  {
   "cell_type": "code",
   "execution_count": 28,
   "id": "1de51293",
   "metadata": {},
   "outputs": [
    {
     "data": {
      "text/plain": [
       "'nbound=4'"
      ]
     },
     "execution_count": 28,
     "metadata": {},
     "output_type": "execute_result"
    }
   ],
   "source": [
    "wel.stress_period_data.values = recarray\n",
    "nbound = wel.nbound\n",
    "f\"{nbound=}\""
   ]
  },
  {
   "cell_type": "code",
   "execution_count": 29,
   "id": "c21fb627",
   "metadata": {},
   "outputs": [
    {
     "data": {
      "text/html": [
       "<div>\n",
       "<style scoped>\n",
       "    .dataframe tbody tr th:only-of-type {\n",
       "        vertical-align: middle;\n",
       "    }\n",
       "\n",
       "    .dataframe tbody tr th {\n",
       "        vertical-align: top;\n",
       "    }\n",
       "\n",
       "    .dataframe thead th {\n",
       "        text-align: right;\n",
       "    }\n",
       "</style>\n",
       "<table border=\"1\" class=\"dataframe\">\n",
       "  <thead>\n",
       "    <tr style=\"text-align: right;\">\n",
       "      <th></th>\n",
       "      <th>nodelist</th>\n",
       "      <th>flux</th>\n",
       "      <th>TEST1</th>\n",
       "      <th>TEST2</th>\n",
       "    </tr>\n",
       "  </thead>\n",
       "  <tbody>\n",
       "    <tr>\n",
       "      <th>0</th>\n",
       "      <td>(0, 5, 4)</td>\n",
       "      <td>-150.0</td>\n",
       "      <td>1.0</td>\n",
       "      <td>2.0</td>\n",
       "    </tr>\n",
       "    <tr>\n",
       "      <th>1</th>\n",
       "      <td>(0, 1, 2)</td>\n",
       "      <td>-100.0</td>\n",
       "      <td>1.0</td>\n",
       "      <td>2.0</td>\n",
       "    </tr>\n",
       "    <tr>\n",
       "      <th>2</th>\n",
       "      <td>(0, 3, 5)</td>\n",
       "      <td>-50.0</td>\n",
       "      <td>1.0</td>\n",
       "      <td>2.0</td>\n",
       "    </tr>\n",
       "    <tr>\n",
       "      <th>3</th>\n",
       "      <td>(0, 1, 5)</td>\n",
       "      <td>-20.0</td>\n",
       "      <td>0.0</td>\n",
       "      <td>1.0</td>\n",
       "    </tr>\n",
       "  </tbody>\n",
       "</table>\n",
       "</div>"
      ],
      "text/plain": [
       "    nodelist   flux  TEST1  TEST2\n",
       "0  (0, 5, 4) -150.0    1.0    2.0\n",
       "1  (0, 1, 2) -100.0    1.0    2.0\n",
       "2  (0, 3, 5)  -50.0    1.0    2.0\n",
       "3  (0, 1, 5)  -20.0    0.0    1.0"
      ]
     },
     "execution_count": 29,
     "metadata": {},
     "output_type": "execute_result"
    }
   ],
   "source": [
    "wel.stress_period_data.dataframe"
   ]
  },
  {
   "cell_type": "markdown",
   "id": "42b72baa",
   "metadata": {},
   "source": [
    "### `ArrayPackage` objects\n",
    "\n",
    "The `ArrayPackage` class is used as a container for packages such as `DIS`, `NPF`, and `IC` that do not contain any sort of stress period data. These packages are used primarily to define model connectivity, initial conditions, and hydraulic parameters of the basin. "
   ]
  },
  {
   "cell_type": "code",
   "execution_count": 30,
   "id": "e9939cae",
   "metadata": {},
   "outputs": [
    {
     "data": {
      "text/plain": [
       "NPF Package: NPF \n",
       " Accessible variables include:\n",
       " angle1 \n",
       " angle2 \n",
       " angle3 \n",
       " icelltype \n",
       " k11 \n",
       " k22 \n",
       " k33 "
      ]
     },
     "execution_count": 30,
     "metadata": {},
     "output_type": "execute_result"
    }
   ],
   "source": [
    "npf = model.npf\n",
    "npf"
   ]
  },
  {
   "cell_type": "markdown",
   "id": "f55215ba",
   "metadata": {},
   "source": [
    "For an `ArrayPackage` type object, variable names can be viewed by calling the `.variable_names` property"
   ]
  },
  {
   "cell_type": "code",
   "execution_count": 31,
   "id": "df4e7242",
   "metadata": {},
   "outputs": [
    {
     "data": {
      "text/plain": [
       "['angle1', 'angle2', 'angle3', 'icelltype', 'k11', 'k22', 'k33']"
      ]
     },
     "execution_count": 31,
     "metadata": {},
     "output_type": "execute_result"
    }
   ],
   "source": [
    "npf.variable_names"
   ]
  },
  {
   "cell_type": "markdown",
   "id": "93c2006e",
   "metadata": {},
   "source": [
    "### Updating values for `ArrayPackage` objects\n",
    "\n",
    "Two methods are available for accessing and updating data in `ArrayPackage` objects. `get_array()` and `set_array()` methods can be used to get and set data. Arrays can also be accessed as attributes on the object."
   ]
  },
  {
   "cell_type": "markdown",
   "id": "0f408dff",
   "metadata": {},
   "source": [
    "Using `get_array()` and `set_array()`"
   ]
  },
  {
   "cell_type": "code",
   "execution_count": 32,
   "id": "0d202974",
   "metadata": {},
   "outputs": [
    {
     "data": {
      "text/plain": [
       "array([[[nan, nan,  1.,  1.,  1.,  1.,  1.,  1., nan, nan],\n",
       "        [nan,  1.,  1.,  1.,  1.,  1.,  1.,  1.,  1., nan],\n",
       "        [ 1.,  1.,  1.,  1.,  1.,  1.,  1.,  1.,  1.,  1.],\n",
       "        [ 1.,  1.,  1.,  1.,  1.,  1.,  1.,  1.,  1.,  1.],\n",
       "        [ 1.,  1.,  1.,  1.,  1.,  1.,  1.,  1.,  1.,  1.],\n",
       "        [ 1.,  1.,  1.,  1.,  1.,  1.,  1.,  1.,  1.,  1.],\n",
       "        [ 1.,  1.,  1.,  1.,  1.,  1.,  1.,  1.,  1.,  1.],\n",
       "        [ 1.,  1.,  1.,  1.,  1.,  1.,  1.,  1.,  1.,  1.],\n",
       "        [nan,  1.,  1.,  1.,  1.,  1.,  1.,  1.,  1., nan],\n",
       "        [nan, nan,  1.,  1.,  1.,  1.,  1.,  1., nan, nan]]])"
      ]
     },
     "execution_count": 32,
     "metadata": {},
     "output_type": "execute_result"
    }
   ],
   "source": [
    "hk = npf.get_array(\"k11\")\n",
    "hk"
   ]
  },
  {
   "cell_type": "code",
   "execution_count": 33,
   "id": "17ce597b",
   "metadata": {},
   "outputs": [],
   "source": [
    "hk[0, 0:5, 0:5] = 50\n",
    "npf.set_array(\"k11\", hk)"
   ]
  },
  {
   "cell_type": "code",
   "execution_count": 34,
   "id": "2ed869a9",
   "metadata": {},
   "outputs": [
    {
     "data": {
      "text/plain": [
       "array([[[nan, nan, 50., 50., 50.,  1.,  1.,  1., nan, nan],\n",
       "        [nan, 50., 50., 50., 50.,  1.,  1.,  1.,  1., nan],\n",
       "        [50., 50., 50., 50., 50.,  1.,  1.,  1.,  1.,  1.],\n",
       "        [50., 50., 50., 50., 50.,  1.,  1.,  1.,  1.,  1.],\n",
       "        [50., 50., 50., 50., 50.,  1.,  1.,  1.,  1.,  1.],\n",
       "        [ 1.,  1.,  1.,  1.,  1.,  1.,  1.,  1.,  1.,  1.],\n",
       "        [ 1.,  1.,  1.,  1.,  1.,  1.,  1.,  1.,  1.,  1.],\n",
       "        [ 1.,  1.,  1.,  1.,  1.,  1.,  1.,  1.,  1.,  1.],\n",
       "        [nan,  1.,  1.,  1.,  1.,  1.,  1.,  1.,  1., nan],\n",
       "        [nan, nan,  1.,  1.,  1.,  1.,  1.,  1., nan, nan]]])"
      ]
     },
     "execution_count": 34,
     "metadata": {},
     "output_type": "execute_result"
    }
   ],
   "source": [
    "# confirm that the data has been updated\n",
    "hk = npf.get_array(\"k11\")\n",
    "hk"
   ]
  },
  {
   "cell_type": "markdown",
   "id": "7bdbdb1e",
   "metadata": {},
   "source": [
    "Getting and setting data by attribute"
   ]
  },
  {
   "cell_type": "code",
   "execution_count": 35,
   "id": "2b589b5f",
   "metadata": {},
   "outputs": [],
   "source": [
    "# needs an update for inplace operations....\n",
    "npf.k33[0, 0:5, 0:5] = 5"
   ]
  },
  {
   "cell_type": "code",
   "execution_count": 36,
   "id": "38e79b05",
   "metadata": {},
   "outputs": [
    {
     "data": {
      "text/plain": [
       "array([[[nan, nan,  5.,  5.,  5.,  1.,  1.,  1., nan, nan],\n",
       "        [nan,  5.,  5.,  5.,  5.,  1.,  1.,  1.,  1., nan],\n",
       "        [ 5.,  5.,  5.,  5.,  5.,  1.,  1.,  1.,  1.,  1.],\n",
       "        [ 5.,  5.,  5.,  5.,  5.,  1.,  1.,  1.,  1.,  1.],\n",
       "        [ 5.,  5.,  5.,  5.,  5.,  1.,  1.,  1.,  1.,  1.],\n",
       "        [ 1.,  1.,  1.,  1.,  1.,  1.,  1.,  1.,  1.,  1.],\n",
       "        [ 1.,  1.,  1.,  1.,  1.,  1.,  1.,  1.,  1.,  1.],\n",
       "        [ 1.,  1.,  1.,  1.,  1.,  1.,  1.,  1.,  1.,  1.],\n",
       "        [nan,  1.,  1.,  1.,  1.,  1.,  1.,  1.,  1., nan],\n",
       "        [nan, nan,  1.,  1.,  1.,  1.,  1.,  1., nan, nan]]])"
      ]
     },
     "execution_count": 36,
     "metadata": {},
     "output_type": "execute_result"
    }
   ],
   "source": [
    "# confirm that the data has been updated\n",
    "npf.k33.values"
   ]
  },
  {
   "cell_type": "markdown",
   "id": "f245911d",
   "metadata": {},
   "source": [
    "## Accessing \"advanced variables\"\n",
    "\n",
    "Advanced variables in this context are variables that would not normally need to be accessed by the user, and in many cases changes to these variables would cause the Modflow simulation to do unexpected things. "
   ]
  },
  {
   "cell_type": "markdown",
   "id": "ff9a706b",
   "metadata": {},
   "source": [
    "For each package object a list of avanced variables can be returned by calling the `advanced_vars` attribute"
   ]
  },
  {
   "cell_type": "code",
   "execution_count": 37,
   "id": "4c943166",
   "metadata": {},
   "outputs": [
    {
     "data": {
      "text/plain": [
       "['package_type',\n",
       " 'id',\n",
       " 'inunit',\n",
       " 'iout',\n",
       " 'inewton',\n",
       " 'iasym',\n",
       " 'iprpak',\n",
       " 'iprflow',\n",
       " 'ipakcb',\n",
       " 'ionper',\n",
       " 'lastonper',\n",
       " 'listlabel',\n",
       " 'isadvpak',\n",
       " 'ibcnum',\n",
       " 'ncolbnd',\n",
       " 'iscloc',\n",
       " 'inamedbound',\n",
       " 'iauxmultcol',\n",
       " 'inobspkg',\n",
       " 'imover',\n",
       " 'ivsc',\n",
       " 'npakeq',\n",
       " 'ioffset',\n",
       " 'auxname',\n",
       " 'iflowred',\n",
       " 'flowred',\n",
       " 'ioutafrcsv',\n",
       " 'noupdateauxvar',\n",
       " 'bound',\n",
       " 'condinput',\n",
       " 'hcof',\n",
       " 'rhs',\n",
       " 'simvals',\n",
       " 'simtomvr',\n",
       " 'boundname',\n",
       " 'boundname_cst']"
      ]
     },
     "execution_count": 37,
     "metadata": {},
     "output_type": "execute_result"
    }
   ],
   "source": [
    "wel = model.wel_0\n",
    "wel.advanced_vars"
   ]
  },
  {
   "cell_type": "markdown",
   "id": "dcd0e792",
   "metadata": {},
   "source": [
    "The user can access and change these values, _at their own risk_, using the `.get_advanced_var()` and `.set_advanced_var()` methods. Data is returned to the user in the internal modflowapi structure. "
   ]
  },
  {
   "cell_type": "code",
   "execution_count": 38,
   "id": "5a8ee821",
   "metadata": {},
   "outputs": [
    {
     "data": {
      "text/plain": [
       "array([1])"
      ]
     },
     "execution_count": 38,
     "metadata": {},
     "output_type": "execute_result"
    }
   ],
   "source": [
    "wel.get_advanced_var(\"ibcnum\")"
   ]
  },
  {
   "cell_type": "markdown",
   "id": "b034954d",
   "metadata": {},
   "source": [
    "### Advanced Packages\n",
    "\n",
    "Certain packages only support accessing data through the `.get_advanced_var()` and `.set_advanced_var()` methods. These packages, are sometimes refered to as \"advanced packages\" and include: BUY, CSUB, GNC, HFB, MAW, MVR, SFR, and UZF. "
   ]
  },
  {
   "cell_type": "markdown",
   "id": "2e2d960a",
   "metadata": {},
   "source": [
    "-------"
   ]
  },
  {
   "cell_type": "markdown",
   "id": "853b6390",
   "metadata": {},
   "source": [
    "Let's close the existing modflowapi shared library object and look at an example of how this is all used in practice"
   ]
  },
  {
   "cell_type": "code",
   "execution_count": 39,
   "id": "6896d260",
   "metadata": {},
   "outputs": [],
   "source": [
    "mf6.finalize()"
   ]
  },
  {
   "cell_type": "markdown",
   "id": "27d3baa1",
   "metadata": {},
   "source": [
    "# Putting it all together and running a modflowapi simulation\n",
    "\n",
    "To run a simulation using the built in modflowapi runner the user needs to create a function that will receive callbacks at different steps in the simulation run. For the remainder of this notebook, we'll show how to create a callback function and use it with the `modflowapi.run_simulation()` method."
   ]
  },
  {
   "cell_type": "markdown",
   "id": "4404b2c2",
   "metadata": {},
   "source": [
    "## Create a callback function for adjusting model data\n",
    "\n",
    "The callback function allows users to wrap function that updates the modflow model at different steps. The `modflowapi.Callbacks` object allows users to find the particular solution step that they are currently in. `modflowapi.Callbacks` includes:\n",
    "\n",
    "   - `Callbacks.initalize`: the initialize callback sends loaded simulation data back to the user to make adjustments before the model begins solving. This callback only occurs once at the beginning of the MODFLOW6 simulation\n",
    "   - `Callbacks.stress_period_start`: the stress_period_start callback sends simulation data for each solution group to the user to make adjustments to stress packages at the beginning of each stress period.\n",
    "   - `Callbacks.stress_period_end`: the stress_period_end callback sends simulation data for each solution group to the user at the end of each stress period. This can be useful for writing custom output and coupling models\n",
    "   - `Callbacks.timestep_start`: the timestep_start callback sends simulation data for each solution group to the user to make adjustments to stress packages at the beginning of each timestep.\n",
    "   - `Callbacks.timestep_end`: the timestep_end callback sends simulation data for each solution group to the user at the end of each timestep. This can be useful for writing custom output and coupling models\n",
    "   - `Callbacks.iteration_start`: the iteration_start callback sends simulation data for each solution group to the user to make adjustments to stress packages at the beginning of each outer solution iteration.\n",
    "   - `Callbacks.iteration_end`: the iteration_end callback sends simulation data for each solution group to the user to make adjustments to stress packages and check values of stress packages at the end of each outer solution iteration.\n",
    "   - `Callbacks.finalize`: the finalize callback is useful for finalizing models coupled with the modflowapi.\n",
    "   \n",
    "The user can use any or all of these callbacks within their callback function"
   ]
  },
  {
   "cell_type": "code",
   "execution_count": 40,
   "id": "c2783828",
   "metadata": {},
   "outputs": [],
   "source": [
    "from modflowapi import Callbacks"
   ]
  },
  {
   "cell_type": "code",
   "execution_count": 41,
   "id": "395327da",
   "metadata": {},
   "outputs": [],
   "source": [
    "def callback_function(sim, callback_step):\n",
    "    \"\"\"\n",
    "    A demonstration function that dynamically adjusts recharge\n",
    "    and pumping in a modflow-6 model through the MODFLOW-API\n",
    "    \n",
    "    Parameters\n",
    "    ----------\n",
    "    sim : modflowapi.Simulation\n",
    "        A simulation object for the solution group that is \n",
    "        currently being solved\n",
    "    callback_step : enumeration\n",
    "        modflowapi.Callbacks enumeration object that indicates\n",
    "        the part of the solution modflow is currently in.\n",
    "    \"\"\"\n",
    "    ml = sim.test_model\n",
    "    if callback_step == Callbacks.initialize:\n",
    "        print(sim.models)\n",
    "    \n",
    "    if callback_step == Callbacks.stress_period_start:\n",
    "        # adjust recharge for stress periods 1 through 7\n",
    "        if sim.kper <= 6:\n",
    "            rcha = ml.rcha_0\n",
    "            spd = rcha.stress_period_data\n",
    "            print(f\"updating recharge: stress_period={ml.kper}\")\n",
    "            spd[\"recharge\"] += 0.40 * sim.kper\n",
    "        \n",
    "    \n",
    "    if callback_step == Callbacks.timestep_start:\n",
    "        print(f\"updating wel flux: stress_period={ml.kper}, timestep={ml.kstp}\")\n",
    "        ml.wel.stress_period_data[\"flux\"] -= ml.kstp * 1.5\n",
    "    \n",
    "    if callback_step == Callbacks.iteration_start:\n",
    "        # we can implement complex solutions to boundary conditions here!\n",
    "        pass\n",
    "    "
   ]
  },
  {
   "cell_type": "markdown",
   "id": "b751eb41",
   "metadata": {},
   "source": [
    "The callback function is then passed to `modflowapi.run_simulation`"
   ]
  },
  {
   "cell_type": "code",
   "execution_count": 42,
   "id": "0878e5b6",
   "metadata": {},
   "outputs": [
    {
     "name": "stdout",
     "output_type": "stream",
     "text": [
      "[TEST_MODEL, 1 Layer, 10 Row, 10 Column model\n",
      "Packages accessible include: \n",
      "  ArrayPackage objects:\n",
      "    dis: <class 'modflowapi.extensions.pakbase.ApiDisPackage'>\n",
      "    npf: <class 'modflowapi.extensions.pakbase.ApiNpfPackage'>\n",
      "    sto: <class 'modflowapi.extensions.pakbase.ApiStoPackage'>\n",
      "    ic: <class 'modflowapi.extensions.pakbase.ApiIcPackage'>\n",
      "  ListPackage objects:\n",
      "    wel_0: <class 'modflowapi.extensions.pakbase.ApiWelPackage'>\n",
      "    drn_0: <class 'modflowapi.extensions.pakbase.ApiDrnPackage'>\n",
      "    rch_0: <class 'modflowapi.extensions.pakbase.ApiRchPackage'>\n",
      "    rcha_0: <class 'modflowapi.extensions.pakbase.ApiRchPackage'>\n",
      "    evt_0: <class 'modflowapi.extensions.pakbase.ApiEvtPackage'>\n",
      "    chd_0: <class 'modflowapi.extensions.pakbase.ApiChdPackage'>\n",
      "  AdvancedPackage objects:\n",
      "    buy: <class 'modflowapi.extensions.pakbase.ApiBuyPackage'>\n",
      "    vsc: <class 'modflowapi.extensions.pakbase.ApiVscPackage'>\n",
      "    gnc: <class 'modflowapi.extensions.pakbase.ApiGncPackage'>\n",
      "    hfb: <class 'modflowapi.extensions.pakbase.ApiHfbPackage'>\n",
      "    csub: <class 'modflowapi.extensions.pakbase.ApiCsubPackage'>\n",
      "    mvr: <class 'modflowapi.extensions.pakbase.ApiMvrPackage'>\n",
      "]\n",
      "updating recharge: stress_period=0\n",
      "updating wel flux: stress_period=0, timestep=0\n",
      "updating wel flux: stress_period=0, timestep=1\n",
      "updating wel flux: stress_period=0, timestep=2\n",
      "updating wel flux: stress_period=0, timestep=3\n",
      "updating wel flux: stress_period=0, timestep=4\n",
      "updating wel flux: stress_period=0, timestep=5\n",
      "updating wel flux: stress_period=0, timestep=6\n",
      "updating wel flux: stress_period=0, timestep=7\n",
      "updating wel flux: stress_period=0, timestep=8\n",
      "updating wel flux: stress_period=0, timestep=9\n",
      "updating wel flux: stress_period=0, timestep=10\n",
      "updating wel flux: stress_period=0, timestep=11\n",
      "updating wel flux: stress_period=0, timestep=12\n",
      "updating wel flux: stress_period=0, timestep=13\n",
      "updating wel flux: stress_period=0, timestep=14\n",
      "updating wel flux: stress_period=0, timestep=15\n",
      "updating wel flux: stress_period=0, timestep=16\n",
      "updating wel flux: stress_period=0, timestep=17\n",
      "updating wel flux: stress_period=0, timestep=18\n",
      "updating wel flux: stress_period=0, timestep=19\n",
      "updating wel flux: stress_period=0, timestep=20\n",
      "updating wel flux: stress_period=0, timestep=21\n",
      "updating wel flux: stress_period=0, timestep=22\n",
      "updating wel flux: stress_period=0, timestep=23\n",
      "updating wel flux: stress_period=0, timestep=24\n",
      "updating wel flux: stress_period=0, timestep=25\n",
      "updating wel flux: stress_period=0, timestep=26\n",
      "updating wel flux: stress_period=0, timestep=27\n",
      "updating wel flux: stress_period=0, timestep=28\n",
      "updating wel flux: stress_period=0, timestep=29\n",
      "updating wel flux: stress_period=0, timestep=30\n",
      "updating recharge: stress_period=1\n",
      "updating wel flux: stress_period=1, timestep=0\n",
      "updating wel flux: stress_period=1, timestep=1\n",
      "updating wel flux: stress_period=1, timestep=2\n",
      "updating wel flux: stress_period=1, timestep=3\n",
      "updating wel flux: stress_period=1, timestep=4\n",
      "updating wel flux: stress_period=1, timestep=5\n",
      "updating wel flux: stress_period=1, timestep=6\n",
      "updating wel flux: stress_period=1, timestep=7\n",
      "updating wel flux: stress_period=1, timestep=8\n",
      "updating wel flux: stress_period=1, timestep=9\n",
      "updating wel flux: stress_period=1, timestep=10\n",
      "updating wel flux: stress_period=1, timestep=11\n",
      "updating wel flux: stress_period=1, timestep=12\n",
      "updating wel flux: stress_period=1, timestep=13\n",
      "updating wel flux: stress_period=1, timestep=14\n",
      "updating wel flux: stress_period=1, timestep=15\n",
      "updating wel flux: stress_period=1, timestep=16\n",
      "updating wel flux: stress_period=1, timestep=17\n",
      "updating wel flux: stress_period=1, timestep=18\n",
      "updating wel flux: stress_period=1, timestep=19\n",
      "updating wel flux: stress_period=1, timestep=20\n",
      "updating wel flux: stress_period=1, timestep=21\n",
      "updating wel flux: stress_period=1, timestep=22\n",
      "updating wel flux: stress_period=1, timestep=23\n",
      "updating wel flux: stress_period=1, timestep=24\n",
      "updating wel flux: stress_period=1, timestep=25\n",
      "updating wel flux: stress_period=1, timestep=26\n",
      "updating wel flux: stress_period=1, timestep=27\n",
      "updating recharge: stress_period=2\n",
      "updating wel flux: stress_period=2, timestep=0\n",
      "updating wel flux: stress_period=2, timestep=1\n",
      "updating wel flux: stress_period=2, timestep=2\n",
      "updating wel flux: stress_period=2, timestep=3\n",
      "updating wel flux: stress_period=2, timestep=4\n",
      "updating wel flux: stress_period=2, timestep=5\n",
      "updating wel flux: stress_period=2, timestep=6\n",
      "updating wel flux: stress_period=2, timestep=7\n",
      "updating wel flux: stress_period=2, timestep=8\n",
      "updating wel flux: stress_period=2, timestep=9\n",
      "updating wel flux: stress_period=2, timestep=10\n",
      "updating wel flux: stress_period=2, timestep=11\n",
      "updating wel flux: stress_period=2, timestep=12\n",
      "updating wel flux: stress_period=2, timestep=13\n",
      "updating wel flux: stress_period=2, timestep=14\n",
      "updating wel flux: stress_period=2, timestep=15\n",
      "updating wel flux: stress_period=2, timestep=16\n",
      "updating wel flux: stress_period=2, timestep=17\n",
      "updating wel flux: stress_period=2, timestep=18\n",
      "updating wel flux: stress_period=2, timestep=19\n",
      "updating wel flux: stress_period=2, timestep=20\n",
      "updating wel flux: stress_period=2, timestep=21\n",
      "updating wel flux: stress_period=2, timestep=22\n",
      "updating wel flux: stress_period=2, timestep=23\n",
      "updating wel flux: stress_period=2, timestep=24\n",
      "updating wel flux: stress_period=2, timestep=25\n",
      "updating wel flux: stress_period=2, timestep=26\n",
      "updating wel flux: stress_period=2, timestep=27\n",
      "updating wel flux: stress_period=2, timestep=28\n",
      "updating wel flux: stress_period=2, timestep=29\n",
      "updating wel flux: stress_period=2, timestep=30\n",
      "updating recharge: stress_period=3\n",
      "updating wel flux: stress_period=3, timestep=0\n",
      "updating wel flux: stress_period=3, timestep=1\n",
      "updating wel flux: stress_period=3, timestep=2\n",
      "updating wel flux: stress_period=3, timestep=3\n",
      "updating wel flux: stress_period=3, timestep=4\n",
      "updating wel flux: stress_period=3, timestep=5\n",
      "updating wel flux: stress_period=3, timestep=6\n",
      "updating wel flux: stress_period=3, timestep=7\n",
      "updating wel flux: stress_period=3, timestep=8\n",
      "updating wel flux: stress_period=3, timestep=9\n",
      "updating wel flux: stress_period=3, timestep=10\n",
      "updating wel flux: stress_period=3, timestep=11\n",
      "updating wel flux: stress_period=3, timestep=12\n",
      "updating wel flux: stress_period=3, timestep=13\n",
      "updating wel flux: stress_period=3, timestep=14\n",
      "updating wel flux: stress_period=3, timestep=15\n",
      "updating wel flux: stress_period=3, timestep=16\n",
      "updating wel flux: stress_period=3, timestep=17\n",
      "updating wel flux: stress_period=3, timestep=18\n",
      "updating wel flux: stress_period=3, timestep=19\n",
      "updating wel flux: stress_period=3, timestep=20\n",
      "updating wel flux: stress_period=3, timestep=21\n",
      "updating wel flux: stress_period=3, timestep=22\n",
      "updating wel flux: stress_period=3, timestep=23\n",
      "updating wel flux: stress_period=3, timestep=24\n",
      "updating wel flux: stress_period=3, timestep=25\n",
      "updating wel flux: stress_period=3, timestep=26\n",
      "updating wel flux: stress_period=3, timestep=27\n",
      "updating wel flux: stress_period=3, timestep=28\n",
      "updating wel flux: stress_period=3, timestep=29\n",
      "updating recharge: stress_period=4\n",
      "updating wel flux: stress_period=4, timestep=0\n",
      "updating wel flux: stress_period=4, timestep=1\n",
      "updating wel flux: stress_period=4, timestep=2\n",
      "updating wel flux: stress_period=4, timestep=3\n",
      "updating wel flux: stress_period=4, timestep=4\n",
      "updating wel flux: stress_period=4, timestep=5\n",
      "updating wel flux: stress_period=4, timestep=6\n",
      "updating wel flux: stress_period=4, timestep=7\n",
      "updating wel flux: stress_period=4, timestep=8\n",
      "updating wel flux: stress_period=4, timestep=9\n",
      "updating wel flux: stress_period=4, timestep=10\n",
      "updating wel flux: stress_period=4, timestep=11\n",
      "updating wel flux: stress_period=4, timestep=12\n",
      "updating wel flux: stress_period=4, timestep=13\n",
      "updating wel flux: stress_period=4, timestep=14\n",
      "updating wel flux: stress_period=4, timestep=15\n",
      "updating wel flux: stress_period=4, timestep=16\n",
      "updating wel flux: stress_period=4, timestep=17\n",
      "updating wel flux: stress_period=4, timestep=18\n",
      "updating wel flux: stress_period=4, timestep=19\n",
      "updating wel flux: stress_period=4, timestep=20\n",
      "updating wel flux: stress_period=4, timestep=21\n",
      "updating wel flux: stress_period=4, timestep=22\n",
      "updating wel flux: stress_period=4, timestep=23\n",
      "updating wel flux: stress_period=4, timestep=24\n",
      "updating wel flux: stress_period=4, timestep=25\n",
      "updating wel flux: stress_period=4, timestep=26\n",
      "updating wel flux: stress_period=4, timestep=27\n",
      "updating wel flux: stress_period=4, timestep=28\n",
      "updating wel flux: stress_period=4, timestep=29\n",
      "updating wel flux: stress_period=4, timestep=30\n",
      "updating recharge: stress_period=5\n",
      "updating wel flux: stress_period=5, timestep=0\n",
      "updating wel flux: stress_period=5, timestep=1\n",
      "updating wel flux: stress_period=5, timestep=2\n",
      "updating wel flux: stress_period=5, timestep=3\n",
      "updating wel flux: stress_period=5, timestep=4\n",
      "updating wel flux: stress_period=5, timestep=5\n",
      "updating wel flux: stress_period=5, timestep=6\n",
      "updating wel flux: stress_period=5, timestep=7\n",
      "updating wel flux: stress_period=5, timestep=8\n",
      "updating wel flux: stress_period=5, timestep=9\n"
     ]
    },
    {
     "name": "stdout",
     "output_type": "stream",
     "text": [
      "updating wel flux: stress_period=5, timestep=10\n",
      "updating wel flux: stress_period=5, timestep=11\n",
      "updating wel flux: stress_period=5, timestep=12\n",
      "updating wel flux: stress_period=5, timestep=13\n",
      "updating wel flux: stress_period=5, timestep=14\n",
      "updating wel flux: stress_period=5, timestep=15\n",
      "updating wel flux: stress_period=5, timestep=16\n",
      "updating wel flux: stress_period=5, timestep=17\n",
      "updating wel flux: stress_period=5, timestep=18\n",
      "updating wel flux: stress_period=5, timestep=19\n",
      "updating wel flux: stress_period=5, timestep=20\n",
      "updating wel flux: stress_period=5, timestep=21\n",
      "updating wel flux: stress_period=5, timestep=22\n",
      "updating wel flux: stress_period=5, timestep=23\n",
      "updating wel flux: stress_period=5, timestep=24\n",
      "updating wel flux: stress_period=5, timestep=25\n",
      "updating wel flux: stress_period=5, timestep=26\n",
      "updating wel flux: stress_period=5, timestep=27\n",
      "updating wel flux: stress_period=5, timestep=28\n",
      "updating wel flux: stress_period=5, timestep=29\n",
      "updating recharge: stress_period=6\n",
      "updating wel flux: stress_period=6, timestep=0\n",
      "updating wel flux: stress_period=6, timestep=1\n",
      "updating wel flux: stress_period=6, timestep=2\n",
      "updating wel flux: stress_period=6, timestep=3\n",
      "updating wel flux: stress_period=6, timestep=4\n",
      "updating wel flux: stress_period=6, timestep=5\n",
      "updating wel flux: stress_period=6, timestep=6\n",
      "updating wel flux: stress_period=6, timestep=7\n",
      "updating wel flux: stress_period=6, timestep=8\n",
      "updating wel flux: stress_period=6, timestep=9\n",
      "updating wel flux: stress_period=6, timestep=10\n",
      "updating wel flux: stress_period=6, timestep=11\n",
      "updating wel flux: stress_period=6, timestep=12\n",
      "updating wel flux: stress_period=6, timestep=13\n",
      "updating wel flux: stress_period=6, timestep=14\n",
      "updating wel flux: stress_period=6, timestep=15\n",
      "updating wel flux: stress_period=6, timestep=16\n",
      "updating wel flux: stress_period=6, timestep=17\n",
      "updating wel flux: stress_period=6, timestep=18\n",
      "updating wel flux: stress_period=6, timestep=19\n",
      "updating wel flux: stress_period=6, timestep=20\n",
      "updating wel flux: stress_period=6, timestep=21\n",
      "updating wel flux: stress_period=6, timestep=22\n",
      "updating wel flux: stress_period=6, timestep=23\n",
      "updating wel flux: stress_period=6, timestep=24\n",
      "updating wel flux: stress_period=6, timestep=25\n",
      "updating wel flux: stress_period=6, timestep=26\n",
      "updating wel flux: stress_period=6, timestep=27\n",
      "updating wel flux: stress_period=6, timestep=28\n",
      "updating wel flux: stress_period=6, timestep=29\n",
      "updating wel flux: stress_period=6, timestep=30\n",
      "updating wel flux: stress_period=7, timestep=0\n",
      "updating wel flux: stress_period=7, timestep=1\n",
      "updating wel flux: stress_period=7, timestep=2\n",
      "updating wel flux: stress_period=7, timestep=3\n",
      "updating wel flux: stress_period=7, timestep=4\n",
      "updating wel flux: stress_period=7, timestep=5\n",
      "updating wel flux: stress_period=7, timestep=6\n",
      "updating wel flux: stress_period=7, timestep=7\n",
      "updating wel flux: stress_period=7, timestep=8\n",
      "updating wel flux: stress_period=7, timestep=9\n",
      "updating wel flux: stress_period=7, timestep=10\n",
      "updating wel flux: stress_period=7, timestep=11\n",
      "updating wel flux: stress_period=7, timestep=12\n",
      "updating wel flux: stress_period=7, timestep=13\n",
      "updating wel flux: stress_period=7, timestep=14\n",
      "updating wel flux: stress_period=7, timestep=15\n",
      "updating wel flux: stress_period=7, timestep=16\n",
      "updating wel flux: stress_period=7, timestep=17\n",
      "updating wel flux: stress_period=7, timestep=18\n",
      "updating wel flux: stress_period=7, timestep=19\n",
      "updating wel flux: stress_period=7, timestep=20\n",
      "updating wel flux: stress_period=7, timestep=21\n",
      "updating wel flux: stress_period=7, timestep=22\n",
      "updating wel flux: stress_period=7, timestep=23\n",
      "updating wel flux: stress_period=7, timestep=24\n",
      "updating wel flux: stress_period=7, timestep=25\n",
      "updating wel flux: stress_period=7, timestep=26\n",
      "updating wel flux: stress_period=7, timestep=27\n",
      "updating wel flux: stress_period=7, timestep=28\n",
      "updating wel flux: stress_period=7, timestep=29\n",
      "updating wel flux: stress_period=7, timestep=30\n",
      "updating wel flux: stress_period=8, timestep=0\n",
      "updating wel flux: stress_period=8, timestep=1\n",
      "updating wel flux: stress_period=8, timestep=2\n",
      "updating wel flux: stress_period=8, timestep=3\n",
      "updating wel flux: stress_period=8, timestep=4\n",
      "updating wel flux: stress_period=8, timestep=5\n",
      "updating wel flux: stress_period=8, timestep=6\n",
      "updating wel flux: stress_period=8, timestep=7\n",
      "updating wel flux: stress_period=8, timestep=8\n",
      "updating wel flux: stress_period=8, timestep=9\n",
      "updating wel flux: stress_period=8, timestep=10\n",
      "updating wel flux: stress_period=8, timestep=11\n",
      "updating wel flux: stress_period=8, timestep=12\n",
      "updating wel flux: stress_period=8, timestep=13\n",
      "updating wel flux: stress_period=8, timestep=14\n",
      "updating wel flux: stress_period=8, timestep=15\n",
      "updating wel flux: stress_period=8, timestep=16\n",
      "updating wel flux: stress_period=8, timestep=17\n",
      "updating wel flux: stress_period=8, timestep=18\n",
      "updating wel flux: stress_period=8, timestep=19\n",
      "updating wel flux: stress_period=8, timestep=20\n",
      "updating wel flux: stress_period=8, timestep=21\n",
      "updating wel flux: stress_period=8, timestep=22\n",
      "updating wel flux: stress_period=8, timestep=23\n",
      "updating wel flux: stress_period=8, timestep=24\n",
      "updating wel flux: stress_period=8, timestep=25\n",
      "updating wel flux: stress_period=8, timestep=26\n",
      "updating wel flux: stress_period=8, timestep=27\n",
      "updating wel flux: stress_period=8, timestep=28\n",
      "updating wel flux: stress_period=8, timestep=29\n",
      "updating wel flux: stress_period=9, timestep=0\n",
      "updating wel flux: stress_period=9, timestep=1\n",
      "updating wel flux: stress_period=9, timestep=2\n",
      "updating wel flux: stress_period=9, timestep=3\n",
      "updating wel flux: stress_period=9, timestep=4\n",
      "updating wel flux: stress_period=9, timestep=5\n",
      "updating wel flux: stress_period=9, timestep=6\n",
      "updating wel flux: stress_period=9, timestep=7\n",
      "updating wel flux: stress_period=9, timestep=8\n",
      "updating wel flux: stress_period=9, timestep=9\n",
      "updating wel flux: stress_period=9, timestep=10\n",
      "updating wel flux: stress_period=9, timestep=11\n",
      "updating wel flux: stress_period=9, timestep=12\n",
      "updating wel flux: stress_period=9, timestep=13\n",
      "updating wel flux: stress_period=9, timestep=14\n",
      "updating wel flux: stress_period=9, timestep=15\n",
      "updating wel flux: stress_period=9, timestep=16\n",
      "updating wel flux: stress_period=9, timestep=17\n",
      "updating wel flux: stress_period=9, timestep=18\n",
      "updating wel flux: stress_period=9, timestep=19\n",
      "updating wel flux: stress_period=9, timestep=20\n",
      "updating wel flux: stress_period=9, timestep=21\n",
      "updating wel flux: stress_period=9, timestep=22\n",
      "updating wel flux: stress_period=9, timestep=23\n",
      "updating wel flux: stress_period=9, timestep=24\n",
      "updating wel flux: stress_period=9, timestep=25\n",
      "updating wel flux: stress_period=9, timestep=26\n",
      "updating wel flux: stress_period=9, timestep=27\n",
      "updating wel flux: stress_period=9, timestep=28\n",
      "updating wel flux: stress_period=9, timestep=29\n",
      "updating wel flux: stress_period=9, timestep=30\n",
      "updating wel flux: stress_period=10, timestep=0\n",
      "updating wel flux: stress_period=10, timestep=1\n",
      "updating wel flux: stress_period=10, timestep=2\n",
      "updating wel flux: stress_period=10, timestep=3\n",
      "updating wel flux: stress_period=10, timestep=4\n",
      "updating wel flux: stress_period=10, timestep=5\n",
      "updating wel flux: stress_period=10, timestep=6\n",
      "updating wel flux: stress_period=10, timestep=7\n",
      "updating wel flux: stress_period=10, timestep=8\n",
      "updating wel flux: stress_period=10, timestep=9\n",
      "updating wel flux: stress_period=10, timestep=10\n",
      "updating wel flux: stress_period=10, timestep=11\n",
      "updating wel flux: stress_period=10, timestep=12\n",
      "updating wel flux: stress_period=10, timestep=13\n",
      "updating wel flux: stress_period=10, timestep=14\n",
      "updating wel flux: stress_period=10, timestep=15\n",
      "updating wel flux: stress_period=10, timestep=16\n",
      "updating wel flux: stress_period=10, timestep=17\n",
      "updating wel flux: stress_period=10, timestep=18\n",
      "updating wel flux: stress_period=10, timestep=19\n",
      "updating wel flux: stress_period=10, timestep=20\n",
      "updating wel flux: stress_period=10, timestep=21\n",
      "updating wel flux: stress_period=10, timestep=22\n",
      "updating wel flux: stress_period=10, timestep=23\n",
      "updating wel flux: stress_period=10, timestep=24\n",
      "updating wel flux: stress_period=10, timestep=25\n",
      "updating wel flux: stress_period=10, timestep=26\n",
      "updating wel flux: stress_period=10, timestep=27\n",
      "updating wel flux: stress_period=10, timestep=28\n",
      "updating wel flux: stress_period=10, timestep=29\n",
      "updating wel flux: stress_period=11, timestep=0\n",
      "updating wel flux: stress_period=11, timestep=1\n",
      "updating wel flux: stress_period=11, timestep=2\n",
      "updating wel flux: stress_period=11, timestep=3\n",
      "updating wel flux: stress_period=11, timestep=4\n",
      "updating wel flux: stress_period=11, timestep=5\n",
      "updating wel flux: stress_period=11, timestep=6\n",
      "updating wel flux: stress_period=11, timestep=7\n",
      "updating wel flux: stress_period=11, timestep=8\n",
      "updating wel flux: stress_period=11, timestep=9\n",
      "updating wel flux: stress_period=11, timestep=10\n",
      "updating wel flux: stress_period=11, timestep=11\n"
     ]
    },
    {
     "name": "stdout",
     "output_type": "stream",
     "text": [
      "updating wel flux: stress_period=11, timestep=12\n",
      "updating wel flux: stress_period=11, timestep=13\n",
      "updating wel flux: stress_period=11, timestep=14\n",
      "updating wel flux: stress_period=11, timestep=15\n",
      "updating wel flux: stress_period=11, timestep=16\n",
      "updating wel flux: stress_period=11, timestep=17\n",
      "updating wel flux: stress_period=11, timestep=18\n",
      "updating wel flux: stress_period=11, timestep=19\n",
      "updating wel flux: stress_period=11, timestep=20\n",
      "updating wel flux: stress_period=11, timestep=21\n",
      "updating wel flux: stress_period=11, timestep=22\n",
      "updating wel flux: stress_period=11, timestep=23\n",
      "updating wel flux: stress_period=11, timestep=24\n",
      "updating wel flux: stress_period=11, timestep=25\n",
      "updating wel flux: stress_period=11, timestep=26\n",
      "updating wel flux: stress_period=11, timestep=27\n",
      "updating wel flux: stress_period=11, timestep=28\n",
      "updating wel flux: stress_period=11, timestep=29\n",
      "updating wel flux: stress_period=11, timestep=30\n",
      "NORMAL TERMINATION OF SIMULATION\n"
     ]
    }
   ],
   "source": [
    "modflowapi.run_simulation(dll, sim_ws, callback_function, verbose=False)"
   ]
  },
  {
   "cell_type": "code",
   "execution_count": null,
   "id": "bc1e31af",
   "metadata": {},
   "outputs": [],
   "source": []
  }
 ],
 "metadata": {
  "kernelspec": {
   "display_name": "Python 3 (ipykernel)",
   "language": "python",
   "name": "python3"
  },
  "language_info": {
   "codemirror_mode": {
    "name": "ipython",
    "version": 3
   },
   "file_extension": ".py",
   "mimetype": "text/x-python",
   "name": "python",
   "nbconvert_exporter": "python",
   "pygments_lexer": "ipython3",
   "version": "3.9.12"
  }
 },
 "nbformat": 4,
 "nbformat_minor": 5
}
